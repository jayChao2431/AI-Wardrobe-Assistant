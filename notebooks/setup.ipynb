{
 "cells": [
  {
   "cell_type": "markdown",
   "id": "f950c75f",
   "metadata": {},
   "source": [
    "# Setup Notebook\n",
    "This notebook verifies your environment and displays DeepFashion sample images."
   ]
  },
  {
   "cell_type": "code",
   "execution_count": null,
   "id": "b6585c77",
   "metadata": {},
   "outputs": [],
   "source": [
    "# ✅ Environment check\n",
    "import sys, platform\n",
    "print('Python version:', sys.version.split()[0])\n",
    "print('Platform:', platform.platform())\n",
    "try:\n",
    "    import torch, torchvision\n",
    "    print('PyTorch:', torch.__version__)\n",
    "    print('Torchvision:', torchvision.__version__)\n",
    "    print('CUDA available:', torch.cuda.is_available())\n",
    "except Exception as e:\n",
    "    print('PyTorch not available yet:', e)\n"
   ]
  },
  {
   "cell_type": "code",
   "execution_count": null,
   "id": "61532ab0",
   "metadata": {},
   "outputs": [],
   "source": [
    "# ✅ Display DeepFashion sample images\n",
    "%matplotlib inline\n",
    "from src.data_loader import show_samples\n",
    "show_samples(n=3, data_path='data/deepfashion_samples')\n"
   ]
  },
  {
   "cell_type": "markdown",
   "id": "99ffb4a7",
   "metadata": {},
   "source": [
    "If you see the images above without errors, your environment is ready for Deliverable 1 ✅"
   ]
  }
 ],
 "metadata": {},
 "nbformat": 4,
 "nbformat_minor": 5
}
